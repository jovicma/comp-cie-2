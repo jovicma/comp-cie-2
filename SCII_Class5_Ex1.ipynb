{
  "nbformat": 4,
  "nbformat_minor": 0,
  "metadata": {
    "colab": {
      "provenance": []
    },
    "kernelspec": {
      "name": "python3",
      "display_name": "Python 3"
    },
    "language_info": {
      "name": "python"
    }
  },
  "cells": [
    {
      "cell_type": "code",
      "execution_count": 1,
      "metadata": {
        "id": "S7EE7qLxRaM1"
      },
      "outputs": [],
      "source": [
        "import numpy as np\n",
        "import matplotlib.pyplot as plt"
      ]
    },
    {
      "cell_type": "code",
      "source": [
        "k1 = 0.04\n",
        "k2 = 1e4\n",
        "k3 = 3e7"
      ],
      "metadata": {
        "id": "a6Q9hG7URdcB"
      },
      "execution_count": 20,
      "outputs": []
    },
    {
      "cell_type": "code",
      "source": [
        "def F(iu1,iu2,iu3):\n",
        "  return [-k1*iu1 + k2*iu2*iu3, k1*iu1 - k2*iu2*iu3 - k3*iu2*iu2, k3*iu2*iu2]"
      ],
      "metadata": {
        "id": "lpWhNGg7SMcg"
      },
      "execution_count": 21,
      "outputs": []
    },
    {
      "cell_type": "code",
      "source": [
        "def J(iu1,iu2,iu3):\n",
        "  return np.array([[-k1,k2*iu3,k2*iu2],\n",
        "          [k1,-k2*iu3-2*k3*iu2,-k2*iu2],\n",
        "          [0,2*k3*iu2,0]])"
      ],
      "metadata": {
        "id": "C5uA8rOlZRze"
      },
      "execution_count": 28,
      "outputs": []
    },
    {
      "cell_type": "code",
      "source": [
        "Tf = 1000.0\n",
        "#h = 1.0e-3\n",
        "#N = int(Tf/h)"
      ],
      "metadata": {
        "id": "GYw1fQ_NSur3"
      },
      "execution_count": 29,
      "outputs": []
    },
    {
      "cell_type": "code",
      "source": [
        "u1 = [1]\n",
        "u2 = [0]\n",
        "u3 = [0]\n",
        "T = [0]\n",
        "\n",
        "while (T[-1]<1.0):\n",
        "  l,_ = np.linalg.eig(J(u1[-1],u2[-1],u3[-1]))\n",
        "  h = min((2.0/abs(l)).min() * 0.8,0.01)\n",
        "  f = F(u1[-1],u2[-1],u3[-1])\n",
        "  u1.append(u1[-1]+h*f[0])\n",
        "  u2.append(u2[-1]+h*f[1])\n",
        "  u3.append(u3[-1]+h*f[2])\n",
        "  T.append(T[-1]+h)"
      ],
      "metadata": {
        "colab": {
          "base_uri": "https://localhost:8080/"
        },
        "id": "CUm_LbZpSz-u",
        "outputId": "c76d633f-8c94-47fb-b430-5e5222d49fbe"
      },
      "execution_count": 36,
      "outputs": [
        {
          "output_type": "stream",
          "name": "stderr",
          "text": [
            "/tmp/ipython-input-2986020682.py:8: RuntimeWarning: divide by zero encountered in divide\n",
            "  h = min((2.0/abs(l)).min() * 0.8,0.01)\n"
          ]
        }
      ]
    },
    {
      "cell_type": "code",
      "source": [
        "plt.plot(T,u1)\n",
        "plt.plot(T,u2)\n",
        "plt.plot(T,u3)\n",
        "plt.show()"
      ],
      "metadata": {
        "id": "Qb9cn2KVVHNY",
        "colab": {
          "base_uri": "https://localhost:8080/",
          "height": 430
        },
        "outputId": "6c241219-0282-4efd-e9eb-873b283ae145"
      },
      "execution_count": 34,
      "outputs": [
        {
          "output_type": "display_data",
          "data": {
            "text/plain": [
              "<Figure size 640x480 with 1 Axes>"
            ],
            "image/png": "[encoded data removed]"
          },
          "metadata": {}
        }
      ]
    }
  ]
}